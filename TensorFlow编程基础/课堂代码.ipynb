{
 "cells": [
  {
   "cell_type": "code",
   "execution_count": 1,
   "metadata": {
    "pycharm": {
     "name": "#%%\n"
    }
   },
   "outputs": [],
   "source": [
    "import numpy as np\n",
    "\n",
    "# 1、生成 x_data，值为 [0, 100]之间500个等差数列数据集合作为样本特征\n",
    "x_data = np.linspace(0, 100, 500)\n",
    "# 根据目标线性方程 y=3.1234*x+2.98，生成相应的标签集合 y_data，1分；\n",
    "y_data = 3.1234 * x_data + 2.98 + np.random.randn(*x_data.shape)"
   ]
  },
  {
   "cell_type": "code",
   "execution_count": 2,
   "metadata": {
    "pycharm": {
     "name": "#%%\n"
    }
   },
   "outputs": [
    {
     "data": {
      "text/plain": [
       "[<matplotlib.lines.Line2D at 0x2a540e798b0>]"
      ]
     },
     "execution_count": 2,
     "metadata": {},
     "output_type": "execute_result"
    },
    {
     "data": {
      "image/png": "[encoded data removed]",
      "text/plain": [
       "<Figure size 640x480 with 1 Axes>"
      ]
     },
     "metadata": {},
     "output_type": "display_data"
    }
   ],
   "source": [
    "import matplotlib.pyplot as plt\n",
    "\n",
    "# 2、画出随机生成数据的散点图和想要通过学习得到的目标线性函数 y=3.1234*x+2.98，1分；\n",
    "plt.scatter(x_data, y_data)\n",
    "plt.plot([0, 100], [2.98, 312.34 + 2.98], 'r')"
   ]
  },
  {
   "cell_type": "code",
   "execution_count": 3,
   "metadata": {
    "pycharm": {
     "name": "#%%\n"
    }
   },
   "outputs": [],
   "source": [
    "import tensorflow as tf\n",
    "\n",
    "# 3、构建回归模型，3分；\n",
    "def model(x, w, b):\n",
    "    return tf.multiply(x, w) + b"
   ]
  },
  {
   "cell_type": "code",
   "execution_count": 4,
   "metadata": {
    "pycharm": {
     "name": "#%%\n"
    }
   },
   "outputs": [],
   "source": [
    "# 创建待优化变量\n",
    "with tf.name_scope('layer'):\n",
    "    with tf.name_scope('weights'):\n",
    "        w = tf.Variable(np.random.randn(), tf.float32, name='w0')\n",
    "    with tf.name_scope('biases'):\n",
    "        b = tf.Variable(0.0, tf.float32, name='b0')"
   ]
  },
  {
   "cell_type": "code",
   "execution_count": 5,
   "metadata": {
    "pycharm": {
     "name": "#%%\n"
    }
   },
   "outputs": [],
   "source": [
    "# 定义损失函数\n",
    "def loss(x, y, w, b):\n",
    "    err = model(x, w, b) - y\n",
    "    squared_err = tf.square(err)\n",
    "    return tf.reduce_mean(squared_err)"
   ]
  },
  {
   "cell_type": "code",
   "execution_count": 6,
   "metadata": {
    "pycharm": {
     "name": "#%%\n"
    }
   },
   "outputs": [],
   "source": [
    "# 定义计算梯度函数\n",
    "def grad(x, y, w, b):\n",
    "    with tf.GradientTape() as tape:\n",
    "        loss_ = loss(x, y, w, b)\n",
    "    return tape.gradient(loss_, [w, b])"
   ]
  },
  {
   "cell_type": "code",
   "execution_count": 7,
   "metadata": {
    "pycharm": {
     "name": "#%%\n"
    }
   },
   "outputs": [
    {
     "name": "stdout",
     "output_type": "stream",
     "text": [
      "Train epoch:  1 Step:  20 Loss:  393.2895\n",
      "Train epoch:  1 Step:  40 Loss:  1078.9966\n",
      "Train epoch:  1 Step:  60 Loss:  1159.5739\n",
      "Train epoch:  1 Step:  80 Loss:  358.06622\n",
      "Train epoch:  1 Step:  100 Loss:  47.67121\n",
      "Train epoch:  1 Step:  120 Loss:  1.1101298\n",
      "Train epoch:  1 Step:  140 Loss:  0.08836594\n",
      "Train epoch:  1 Step:  160 Loss:  5.0454855\n",
      "Train epoch:  1 Step:  180 Loss:  1.6659532\n",
      "Train epoch:  1 Step:  200 Loss:  1.021862\n",
      "Train epoch:  1 Step:  220 Loss:  1.1329631\n",
      "Train epoch:  1 Step:  240 Loss:  0.024562106\n",
      "Train epoch:  1 Step:  260 Loss:  3.594107\n",
      "Train epoch:  1 Step:  280 Loss:  1.6619182\n",
      "Train epoch:  1 Step:  300 Loss:  1.0250883\n",
      "Train epoch:  1 Step:  320 Loss:  0.16963297\n",
      "Train epoch:  1 Step:  340 Loss:  6.5425763\n",
      "Train epoch:  1 Step:  360 Loss:  4.7739477\n",
      "Train epoch:  1 Step:  380 Loss:  0.42674768\n",
      "Train epoch:  1 Step:  400 Loss:  15.161788\n",
      "Train epoch:  1 Step:  420 Loss:  16.003418\n",
      "Train epoch:  1 Step:  440 Loss:  0.005544722\n",
      "Train epoch:  1 Step:  460 Loss:  1.5250381\n",
      "Train epoch:  1 Step:  480 Loss:  19.16707\n",
      "Train epoch:  1 Step:  500 Loss:  2.582628\n",
      "Train epoch:  2 Step:  20 Loss:  3.259751\n",
      "Train epoch:  2 Step:  40 Loss:  1.1495123\n",
      "Train epoch:  2 Step:  60 Loss:  2.7359536\n",
      "Train epoch:  2 Step:  80 Loss:  0.92768\n",
      "Train epoch:  2 Step:  100 Loss:  0.035872255\n",
      "Train epoch:  2 Step:  120 Loss:  0.0014850288\n",
      "Train epoch:  2 Step:  140 Loss:  0.05075142\n",
      "Train epoch:  2 Step:  160 Loss:  5.041579\n",
      "Train epoch:  2 Step:  180 Loss:  1.6645749\n",
      "Train epoch:  2 Step:  200 Loss:  1.0210909\n",
      "Train epoch:  2 Step:  220 Loss:  1.1335478\n",
      "Train epoch:  2 Step:  240 Loss:  0.024495192\n",
      "Train epoch:  2 Step:  260 Loss:  3.5947433\n",
      "Train epoch:  2 Step:  280 Loss:  1.6623116\n",
      "Train epoch:  2 Step:  300 Loss:  1.024872\n",
      "Train epoch:  2 Step:  320 Loss:  0.16957013\n",
      "Train epoch:  2 Step:  340 Loss:  6.542811\n",
      "Train epoch:  2 Step:  360 Loss:  4.7741475\n",
      "Train epoch:  2 Step:  380 Loss:  0.42682743\n",
      "Train epoch:  2 Step:  400 Loss:  15.161431\n",
      "Train epoch:  2 Step:  420 Loss:  16.00415\n",
      "Train epoch:  2 Step:  440 Loss:  0.005544722\n",
      "Train epoch:  2 Step:  460 Loss:  1.5251135\n",
      "Train epoch:  2 Step:  480 Loss:  19.166536\n",
      "Train epoch:  2 Step:  500 Loss:  2.5829222\n",
      "Train epoch:  3 Step:  20 Loss:  3.183811\n",
      "Train epoch:  3 Step:  40 Loss:  1.1150589\n",
      "Train epoch:  3 Step:  60 Loss:  2.711451\n",
      "Train epoch:  3 Step:  80 Loss:  0.9268351\n",
      "Train epoch:  3 Step:  100 Loss:  0.037064005\n",
      "Train epoch:  3 Step:  120 Loss:  0.0013094423\n",
      "Train epoch:  3 Step:  140 Loss:  0.051351313\n",
      "Train epoch:  3 Step:  160 Loss:  5.045177\n",
      "Train epoch:  3 Step:  180 Loss:  1.663197\n",
      "Train epoch:  3 Step:  200 Loss:  1.0202893\n",
      "Train epoch:  3 Step:  220 Loss:  1.1341652\n",
      "Train epoch:  3 Step:  240 Loss:  0.02442837\n",
      "Train epoch:  3 Step:  260 Loss:  3.5953798\n",
      "Train epoch:  3 Step:  280 Loss:  1.6626264\n",
      "Train epoch:  3 Step:  300 Loss:  1.0246557\n",
      "Train epoch:  3 Step:  320 Loss:  0.16950731\n",
      "Train epoch:  3 Step:  340 Loss:  6.543279\n",
      "Train epoch:  3 Step:  360 Loss:  4.774481\n",
      "Train epoch:  3 Step:  380 Loss:  0.42688724\n",
      "Train epoch:  3 Step:  400 Loss:  15.161313\n",
      "Train epoch:  3 Step:  420 Loss:  16.004395\n",
      "Train epoch:  3 Step:  440 Loss:  0.005549268\n",
      "Train epoch:  3 Step:  460 Loss:  1.5251888\n",
      "Train epoch:  3 Step:  480 Loss:  19.166536\n",
      "Train epoch:  3 Step:  500 Loss:  2.5830202\n",
      "Train epoch:  4 Step:  20 Loss:  3.1093678\n",
      "Train epoch:  4 Step:  40 Loss:  1.0813956\n",
      "Train epoch:  4 Step:  60 Loss:  2.6872587\n",
      "Train epoch:  4 Step:  80 Loss:  0.9259833\n",
      "Train epoch:  4 Step:  100 Loss:  0.038266275\n",
      "Train epoch:  4 Step:  120 Loss:  0.001146449\n",
      "Train epoch:  4 Step:  140 Loss:  0.05195125\n",
      "Train epoch:  4 Step:  160 Loss:  5.0487766\n",
      "Train epoch:  4 Step:  180 Loss:  1.6618395\n",
      "Train epoch:  4 Step:  200 Loss:  1.0195496\n",
      "Train epoch:  4 Step:  220 Loss:  1.1347502\n",
      "Train epoch:  4 Step:  240 Loss:  0.024366401\n",
      "Train epoch:  4 Step:  260 Loss:  3.5959585\n",
      "Train epoch:  4 Step:  280 Loss:  1.6629806\n",
      "Train epoch:  4 Step:  300 Loss:  1.0244396\n",
      "Train epoch:  4 Step:  320 Loss:  0.16941936\n",
      "Train epoch:  4 Step:  340 Loss:  6.543669\n",
      "Train epoch:  4 Step:  360 Loss:  4.774681\n",
      "Train epoch:  4 Step:  380 Loss:  0.426967\n",
      "Train epoch:  4 Step:  400 Loss:  15.160956\n",
      "Train epoch:  4 Step:  420 Loss:  16.004639\n",
      "Train epoch:  4 Step:  440 Loss:  0.005558365\n",
      "Train epoch:  4 Step:  460 Loss:  1.5252641\n",
      "Train epoch:  4 Step:  480 Loss:  19.167337\n",
      "Train epoch:  4 Step:  500 Loss:  2.582726\n",
      "Train epoch:  5 Step:  20 Loss:  3.0363739\n",
      "Train epoch:  5 Step:  40 Loss:  1.0484825\n",
      "Train epoch:  5 Step:  60 Loss:  2.6633244\n",
      "Train epoch:  5 Step:  80 Loss:  0.92518324\n",
      "Train epoch:  5 Step:  100 Loss:  0.03947561\n",
      "Train epoch:  5 Step:  120 Loss:  0.0009952476\n",
      "Train epoch:  5 Step:  140 Loss:  0.05254767\n",
      "Train epoch:  5 Step:  160 Loss:  5.052274\n",
      "Train epoch:  5 Step:  180 Loss:  1.6604825\n",
      "Train epoch:  5 Step:  200 Loss:  1.0188102\n",
      "Train epoch:  5 Step:  220 Loss:  1.1353356\n",
      "Train epoch:  5 Step:  240 Loss:  0.024299756\n",
      "Train epoch:  5 Step:  260 Loss:  3.596595\n",
      "Train epoch:  5 Step:  280 Loss:  1.6632954\n",
      "Train epoch:  5 Step:  300 Loss:  1.0241925\n",
      "Train epoch:  5 Step:  320 Loss:  0.16935657\n",
      "Train epoch:  5 Step:  340 Loss:  6.5439816\n",
      "Train epoch:  5 Step:  360 Loss:  4.7750144\n",
      "Train epoch:  5 Step:  380 Loss:  0.42702684\n",
      "Train epoch:  5 Step:  400 Loss:  15.1606\n",
      "Train epoch:  5 Step:  420 Loss:  16.005127\n",
      "Train epoch:  5 Step:  440 Loss:  0.0055674696\n",
      "Train epoch:  5 Step:  460 Loss:  1.5250381\n",
      "Train epoch:  5 Step:  480 Loss:  19.16707\n",
      "Train epoch:  5 Step:  500 Loss:  2.5825298\n",
      "Train epoch:  6 Step:  20 Loss:  2.964805\n",
      "Train epoch:  6 Step:  40 Loss:  1.0163436\n",
      "Train epoch:  6 Step:  60 Loss:  2.639658\n",
      "Train epoch:  6 Step:  80 Loss:  0.92436886\n",
      "Train epoch:  6 Step:  100 Loss:  0.040694516\n",
      "Train epoch:  6 Step:  120 Loss:  0.0008556268\n",
      "Train epoch:  6 Step:  140 Loss:  0.053140465\n",
      "Train epoch:  6 Step:  160 Loss:  5.055842\n",
      "Train epoch:  6 Step:  180 Loss:  1.659126\n",
      "Train epoch:  6 Step:  200 Loss:  1.0180402\n",
      "Train epoch:  6 Step:  220 Loss:  1.1359209\n",
      "Train epoch:  6 Step:  240 Loss:  0.0242332\n",
      "Train epoch:  6 Step:  260 Loss:  3.5972319\n",
      "Train epoch:  6 Step:  280 Loss:  1.6635709\n",
      "Train epoch:  6 Step:  300 Loss:  1.0239762\n",
      "Train epoch:  6 Step:  320 Loss:  0.16928121\n",
      "Train epoch:  6 Step:  340 Loss:  6.544294\n",
      "Train epoch:  6 Step:  360 Loss:  4.7752814\n",
      "Train epoch:  6 Step:  380 Loss:  0.42710662\n",
      "Train epoch:  6 Step:  400 Loss:  15.160481\n",
      "Train epoch:  6 Step:  420 Loss:  16.005127\n",
      "Train epoch:  6 Step:  440 Loss:  0.0055674696\n",
      "Train epoch:  6 Step:  460 Loss:  1.5253396\n",
      "Train epoch:  6 Step:  480 Loss:  19.167337\n",
      "Train epoch:  6 Step:  500 Loss:  2.582726\n",
      "Train epoch:  7 Step:  20 Loss:  2.8946705\n",
      "Train epoch:  7 Step:  40 Loss:  0.984966\n",
      "Train epoch:  7 Step:  60 Loss:  2.6163442\n",
      "Train epoch:  7 Step:  80 Loss:  0.9235695\n",
      "Train epoch:  7 Step:  100 Loss:  0.041919462\n",
      "Train epoch:  7 Step:  120 Loss:  0.0007281993\n",
      "Train epoch:  7 Step:  140 Loss:  0.053736582\n",
      "Train epoch:  7 Step:  160 Loss:  5.0593762\n",
      "Train epoch:  7 Step:  180 Loss:  1.6577898\n",
      "Train epoch:  7 Step:  200 Loss:  1.0173322\n",
      "Train epoch:  7 Step:  220 Loss:  1.1364739\n",
      "Train epoch:  7 Step:  240 Loss:  0.024166737\n",
      "Train epoch:  7 Step:  260 Loss:  3.5978684\n",
      "Train epoch:  7 Step:  280 Loss:  1.6639646\n",
      "Train epoch:  7 Step:  300 Loss:  1.0238218\n",
      "Train epoch:  7 Step:  320 Loss:  0.16921845\n",
      "Train epoch:  7 Step:  340 Loss:  6.544606\n",
      "Train epoch:  7 Step:  360 Loss:  4.7754145\n",
      "Train epoch:  7 Step:  380 Loss:  0.4271864\n",
      "Train epoch:  7 Step:  400 Loss:  15.160006\n",
      "Train epoch:  7 Step:  420 Loss:  16.005615\n",
      "Train epoch:  7 Step:  440 Loss:  0.0055811405\n",
      "Train epoch:  7 Step:  460 Loss:  1.525415\n",
      "Train epoch:  7 Step:  480 Loss:  19.167604\n",
      "Train epoch:  7 Step:  500 Loss:  2.5823336\n",
      "Train epoch:  8 Step:  20 Loss:  2.8259172\n",
      "Train epoch:  8 Step:  40 Loss:  0.9543189\n",
      "Train epoch:  8 Step:  60 Loss:  2.5932813\n",
      "Train epoch:  8 Step:  80 Loss:  0.9227705\n",
      "Train epoch:  8 Step:  100 Loss:  0.043153062\n",
      "Train epoch:  8 Step:  120 Loss:  0.0006121728\n",
      "Train epoch:  8 Step:  140 Loss:  0.054325357\n",
      "Train epoch:  8 Step:  160 Loss:  5.062809\n",
      "Train epoch:  8 Step:  180 Loss:  1.6564738\n",
      "Train epoch:  8 Step:  200 Loss:  1.0165628\n",
      "Train epoch:  8 Step:  220 Loss:  1.1370596\n",
      "Train epoch:  8 Step:  240 Loss:  0.02410984\n",
      "Train epoch:  8 Step:  260 Loss:  3.5984473\n",
      "Train epoch:  8 Step:  280 Loss:  1.6642796\n",
      "Train epoch:  8 Step:  300 Loss:  1.0236057\n",
      "Train epoch:  8 Step:  320 Loss:  0.16914313\n",
      "Train epoch:  8 Step:  340 Loss:  6.5450745\n",
      "Train epoch:  8 Step:  360 Loss:  4.7757483\n",
      "Train epoch:  8 Step:  380 Loss:  0.42722628\n",
      "Train epoch:  8 Step:  400 Loss:  15.159649\n",
      "Train epoch:  8 Step:  420 Loss:  16.00586\n",
      "Train epoch:  8 Step:  440 Loss:  0.005585701\n",
      "Train epoch:  8 Step:  460 Loss:  1.5254903\n",
      "Train epoch:  8 Step:  480 Loss:  19.167604\n",
      "Train epoch:  8 Step:  500 Loss:  2.5821376\n",
      "Train epoch:  9 Step:  20 Loss:  2.7585323\n",
      "Train epoch:  9 Step:  40 Loss:  0.9243872\n",
      "Train epoch:  9 Step:  60 Loss:  2.570504\n",
      "Train epoch:  9 Step:  80 Loss:  0.9220011\n",
      "Train epoch:  9 Step:  100 Loss:  0.044394907\n",
      "Train epoch:  9 Step:  120 Loss:  0.00050655217\n",
      "Train epoch:  9 Step:  140 Loss:  0.054917336\n",
      "Train epoch:  9 Step:  160 Loss:  5.066277\n",
      "Train epoch:  9 Step:  180 Loss:  1.6551778\n",
      "Train epoch:  9 Step:  200 Loss:  1.0158552\n",
      "Train epoch:  9 Step:  220 Loss:  1.1376128\n",
      "Train epoch:  9 Step:  240 Loss:  0.024048278\n",
      "Train epoch:  9 Step:  260 Loss:  3.5990841\n",
      "Train epoch:  9 Step:  280 Loss:  1.6645945\n",
      "Train epoch:  9 Step:  300 Loss:  1.0233896\n",
      "Train epoch:  9 Step:  320 Loss:  0.16908038\n",
      "Train epoch:  9 Step:  340 Loss:  6.545387\n",
      "Train epoch:  9 Step:  360 Loss:  4.776015\n",
      "Train epoch:  9 Step:  380 Loss:  0.42730606\n",
      "Train epoch:  9 Step:  400 Loss:  15.159293\n",
      "Train epoch:  9 Step:  420 Loss:  16.006104\n",
      "Train epoch:  9 Step:  440 Loss:  0.0055765817\n",
      "Train epoch:  9 Step:  460 Loss:  1.525415\n",
      "Train epoch:  9 Step:  480 Loss:  19.168139\n",
      "Train epoch:  9 Step:  500 Loss:  2.5823336\n",
      "Train epoch:  10 Step:  20 Loss:  2.6924953\n",
      "Train epoch:  10 Step:  40 Loss:  0.89518505\n",
      "Train epoch:  10 Step:  60 Loss:  2.548034\n",
      "Train epoch:  10 Step:  80 Loss:  0.9212028\n",
      "Train epoch:  10 Step:  100 Loss:  0.045644585\n",
      "Train epoch:  10 Step:  120 Loss:  0.00041154452\n",
      "Train epoch:  10 Step:  140 Loss:  0.05550893\n",
      "Train epoch:  10 Step:  160 Loss:  5.0696435\n",
      "Train epoch:  10 Step:  180 Loss:  1.6538825\n",
      "Train epoch:  10 Step:  200 Loss:  1.0151479\n",
      "Train epoch:  10 Step:  220 Loss:  1.1382314\n",
      "Train epoch:  10 Step:  240 Loss:  0.023982069\n",
      "Train epoch:  10 Step:  260 Loss:  3.5996633\n",
      "Train epoch:  10 Step:  280 Loss:  1.6649095\n",
      "Train epoch:  10 Step:  300 Loss:  1.0231735\n",
      "Train epoch:  10 Step:  320 Loss:  0.1690051\n",
      "Train epoch:  10 Step:  340 Loss:  6.545699\n",
      "Train epoch:  10 Step:  360 Loss:  4.776282\n",
      "Train epoch:  10 Step:  380 Loss:  0.42736593\n",
      "Train epoch:  10 Step:  400 Loss:  15.1589365\n",
      "Train epoch:  10 Step:  420 Loss:  16.006592\n",
      "Train epoch:  10 Step:  440 Loss:  0.0055811405\n",
      "Train epoch:  10 Step:  460 Loss:  1.5255657\n",
      "Train epoch:  10 Step:  480 Loss:  19.168673\n",
      "Train epoch:  10 Step:  500 Loss:  2.5821376\n"
     ]
    }
   ],
   "source": [
    "# 4、训练模型，10轮，每训练20个样本显示损失值，2分；\n",
    "train_epochs = 10\n",
    "lr = 1e-4\n",
    "\n",
    "loss_list = []\n",
    "display_step = 20\n",
    "\n",
    "for epoch in range(train_epochs):\n",
    "    step = 0\n",
    "    for xs, ys in zip(x_data, y_data):\n",
    "        loss_ = loss(xs, ys, w, b)\n",
    "        loss_list.append(loss_)\n",
    "\n",
    "        delta_w, delta_b = grad(xs, ys, w, b)\n",
    "        change_w = delta_w * lr\n",
    "        change_b = delta_b * lr\n",
    "        w.assign_sub(change_w)\n",
    "        b.assign_sub(change_b)\n",
    "\n",
    "        step += 1\n",
    "        if step % display_step == 0:\n",
    "            print(\"Train epoch: \", epoch+1, \"Step: \", step, \"Loss: \", loss_.numpy())"
   ]
  },
  {
   "cell_type": "code",
   "execution_count": 8,
   "metadata": {
    "pycharm": {
     "name": "#%%\n"
    }
   },
   "outputs": [
    {
     "data": {
      "text/plain": [
       "(array([18.768686], dtype=float32), 21.064486000000002)"
      ]
     },
     "execution_count": 8,
     "metadata": {},
     "output_type": "execute_result"
    }
   ],
   "source": [
    "# 5、通过训练出的模型预测 x=5.79 时 y 的值，并显示根据目标方程显示的 y 值，1分；\n",
    "test_x = [5.79]\n",
    "pred = model(test_x, w, b)\n",
    "pred.numpy(), 5.79 * 3.1234 + 2.98"
   ]
  },
  {
   "cell_type": "code",
   "execution_count": 17,
   "metadata": {},
   "outputs": [
    {
     "name": "stdout",
     "output_type": "stream",
     "text": [
      "WARNING:tensorflow:From c:\\Users\\shuhe\\anaconda3\\envs\\deeplearning\\lib\\site-packages\\tensorflow\\python\\ops\\summary_ops_v2.py:1332: start (from tensorflow.python.eager.profiler) is deprecated and will be removed after 2020-07-01.\n",
      "Instructions for updating:\n",
      "use `tf.profiler.experimental.start` instead.\n",
      "Epoch 1/10\n",
      "16/16 [==============================] - 0s 6ms/step - loss: 10321.8418\n",
      "Epoch 2/10\n",
      "16/16 [==============================] - 0s 5ms/step - loss: 10136.0244\n",
      "Epoch 3/10\n",
      "16/16 [==============================] - 0s 3ms/step - loss: 9949.3174\n",
      "Epoch 4/10\n",
      "16/16 [==============================] - 0s 2ms/step - loss: 9768.6484\n",
      "Epoch 5/10\n",
      "16/16 [==============================] - 0s 2ms/step - loss: 9586.0312\n",
      "Epoch 6/10\n",
      "16/16 [==============================] - 0s 2ms/step - loss: 9410.7812\n",
      "Epoch 7/10\n",
      "16/16 [==============================] - 0s 3ms/step - loss: 9233.3057\n",
      "Epoch 8/10\n",
      "16/16 [==============================] - 0s 2ms/step - loss: 9061.3623\n",
      "Epoch 9/10\n",
      "16/16 [==============================] - 0s 3ms/step - loss: 8890.0312\n",
      "Epoch 10/10\n",
      "16/16 [==============================] - 0s 3ms/step - loss: 8724.2402\n",
      "WARNING:tensorflow:From c:\\Users\\shuhe\\anaconda3\\envs\\deeplearning\\lib\\site-packages\\tensorflow\\python\\ops\\summary_ops_v2.py:1383: stop (from tensorflow.python.eager.profiler) is deprecated and will be removed after 2020-07-01.\n",
      "Instructions for updating:\n",
      "use `tf.profiler.experimental.stop` instead.\n",
      "WARNING:tensorflow:From c:\\Users\\shuhe\\anaconda3\\envs\\deeplearning\\lib\\site-packages\\tensorflow\\python\\ops\\summary_ops_v2.py:1383: save (from tensorflow.python.eager.profiler) is deprecated and will be removed after 2020-07-01.\n",
      "Instructions for updating:\n",
      "`tf.python.eager.profiler` has deprecated, use `tf.profiler` instead.\n",
      "WARNING:tensorflow:From c:\\Users\\shuhe\\anaconda3\\envs\\deeplearning\\lib\\site-packages\\tensorflow\\python\\eager\\profiler.py:150: maybe_create_event_file (from tensorflow.python.eager.profiler) is deprecated and will be removed after 2020-07-01.\n",
      "Instructions for updating:\n",
      "`tf.python.eager.profiler` has deprecated, use `tf.profiler` instead.\n"
     ]
    }
   ],
   "source": [
    "import datetime\n",
    " \n",
    "# 创建日志\n",
    "stamp = datetime.datetime.now().strftime(\"%Y%m%d-%H%M%S\")\n",
    "logdir = './log/%s' % stamp\n",
    "writer = tf.summary.create_file_writer(logdir)\n",
    "\n",
    "# 开启autograph跟踪\n",
    "tf.summary.trace_on(graph=True, profiler=True) \n",
    "\n",
    "model = tf.keras.Sequential(\n",
    "    [tf.keras.layers.Dense(1, input_shape=(1,))]\n",
    ")\n",
    "model.compile(\n",
    "    optimizer='adam',\n",
    "    loss='mse'\n",
    ")\n",
    "model.fit(x_data, y_data, epochs=10)\n",
    "\n",
    "# 将计算图信息写入日志\n",
    "with writer.as_default():\n",
    "    tf.summary.trace_export(\n",
    "        name=\"autograph\",\n",
    "        step=0,\n",
    "        profiler_outdir=logdir)"
   ]
  },
  {
   "cell_type": "code",
   "execution_count": 18,
   "metadata": {
    "collapsed": false,
    "pycharm": {
     "is_executing": true,
     "name": "#%%\n"
    }
   },
   "outputs": [
    {
     "data": {
      "text/html": [
       "\n",
       "      <iframe id=\"tensorboard-frame-3ff4a752d33fadfd\" width=\"100%\" height=\"800\" frameborder=\"0\">\n",
       "      </iframe>\n",
       "      <script>\n",
       "        (function() {\n",
       "          const frame = document.getElementById(\"tensorboard-frame-3ff4a752d33fadfd\");\n",
       "          const url = new URL(\"/\", window.location);\n",
       "          const port = 6006;\n",
       "          if (port) {\n",
       "            url.port = port;\n",
       "          }\n",
       "          frame.src = url;\n",
       "        })();\n",
       "      </script>\n",
       "    "
      ],
      "text/plain": [
       "<IPython.core.display.HTML object>"
      ]
     },
     "metadata": {},
     "output_type": "display_data"
    }
   ],
   "source": [
    "# 启动 tensorboard\n",
    "%load_ext tensorboard\n",
    "# 启动tensorboard\n",
    "%tensorboard --logdir ./log/\n",
    "# 打开 http://localhost:6006/"
   ]
  }
 ],
 "metadata": {
  "kernelspec": {
   "display_name": "Python 3.9.13 ('deeplearning')",
   "language": "python",
   "name": "python3"
  },
  "language_info": {
   "codemirror_mode": {
    "name": "ipython",
    "version": 3
   },
   "file_extension": ".py",
   "mimetype": "text/x-python",
   "name": "python",
   "nbconvert_exporter": "python",
   "pygments_lexer": "ipython3",
   "version": "3.9.13"
  },
  "vscode": {
   "interpreter": {
    "hash": "c41703af27f2ca99b71ea7d43399a85046b4008a212369dfe090ed96ee5033ae"
   }
  }
 },
 "nbformat": 4,
 "nbformat_minor": 1
}
