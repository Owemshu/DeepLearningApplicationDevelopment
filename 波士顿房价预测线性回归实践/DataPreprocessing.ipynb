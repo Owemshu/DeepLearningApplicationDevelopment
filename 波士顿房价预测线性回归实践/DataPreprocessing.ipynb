{
 "cells": [
  {
   "cell_type": "code",
   "execution_count": 24,
   "outputs": [
    {
     "data": {
      "text/plain": "      CRIM    ZN  INDUS  CHAS    NOX     RM   AGE     DIS  RAD  TAX  PTRATIO  \\\n0  0.00632  18.0   2.31     0  0.538  6.575  65.2  4.0900    1  296     15.3   \n1  0.02731   0.0   7.07     0  0.469  6.421  78.9  4.9671    2  242     17.8   \n2  0.02729   0.0   7.07     0  0.469  7.185  61.1  4.9671    2  242     17.8   \n3  0.03237   0.0   2.18     0  0.458  6.998  45.8  6.0622    3  222     18.7   \n4  0.06905   0.0   2.18     0  0.458  7.147  54.2  6.0622    3  222     18.7   \n\n   LSTAT  MEDV  \n0   4.98  24.0  \n1   9.14  21.6  \n2   4.03  34.7  \n3   2.94  33.4  \n4   5.33  36.2  ",
      "text/html": "<div>\n<style scoped>\n    .dataframe tbody tr th:only-of-type {\n        vertical-align: middle;\n    }\n\n    .dataframe tbody tr th {\n        vertical-align: top;\n    }\n\n    .dataframe thead th {\n        text-align: right;\n    }\n</style>\n<table border=\"1\" class=\"dataframe\">\n  <thead>\n    <tr style=\"text-align: right;\">\n      <th></th>\n      <th>CRIM</th>\n      <th>ZN</th>\n      <th>INDUS</th>\n      <th>CHAS</th>\n      <th>NOX</th>\n      <th>RM</th>\n      <th>AGE</th>\n      <th>DIS</th>\n      <th>RAD</th>\n      <th>TAX</th>\n      <th>PTRATIO</th>\n      <th>LSTAT</th>\n      <th>MEDV</th>\n    </tr>\n  </thead>\n  <tbody>\n    <tr>\n      <th>0</th>\n      <td>0.00632</td>\n      <td>18.0</td>\n      <td>2.31</td>\n      <td>0</td>\n      <td>0.538</td>\n      <td>6.575</td>\n      <td>65.2</td>\n      <td>4.0900</td>\n      <td>1</td>\n      <td>296</td>\n      <td>15.3</td>\n      <td>4.98</td>\n      <td>24.0</td>\n    </tr>\n    <tr>\n      <th>1</th>\n      <td>0.02731</td>\n      <td>0.0</td>\n      <td>7.07</td>\n      <td>0</td>\n      <td>0.469</td>\n      <td>6.421</td>\n      <td>78.9</td>\n      <td>4.9671</td>\n      <td>2</td>\n      <td>242</td>\n      <td>17.8</td>\n      <td>9.14</td>\n      <td>21.6</td>\n    </tr>\n    <tr>\n      <th>2</th>\n      <td>0.02729</td>\n      <td>0.0</td>\n      <td>7.07</td>\n      <td>0</td>\n      <td>0.469</td>\n      <td>7.185</td>\n      <td>61.1</td>\n      <td>4.9671</td>\n      <td>2</td>\n      <td>242</td>\n      <td>17.8</td>\n      <td>4.03</td>\n      <td>34.7</td>\n    </tr>\n    <tr>\n      <th>3</th>\n      <td>0.03237</td>\n      <td>0.0</td>\n      <td>2.18</td>\n      <td>0</td>\n      <td>0.458</td>\n      <td>6.998</td>\n      <td>45.8</td>\n      <td>6.0622</td>\n      <td>3</td>\n      <td>222</td>\n      <td>18.7</td>\n      <td>2.94</td>\n      <td>33.4</td>\n    </tr>\n    <tr>\n      <th>4</th>\n      <td>0.06905</td>\n      <td>0.0</td>\n      <td>2.18</td>\n      <td>0</td>\n      <td>0.458</td>\n      <td>7.147</td>\n      <td>54.2</td>\n      <td>6.0622</td>\n      <td>3</td>\n      <td>222</td>\n      <td>18.7</td>\n      <td>5.33</td>\n      <td>36.2</td>\n    </tr>\n  </tbody>\n</table>\n</div>"
     },
     "execution_count": 24,
     "metadata": {},
     "output_type": "execute_result"
    }
   ],
   "source": [
    "import pandas as pd\n",
    "\n",
    "data = pd.read_csv('data/boston.csv')\n",
    "data.head(5)"
   ],
   "metadata": {
    "collapsed": false,
    "pycharm": {
     "name": "#%%\n"
    }
   }
  },
  {
   "cell_type": "code",
   "execution_count": 25,
   "outputs": [
    {
     "name": "stdout",
     "output_type": "stream",
     "text": [
      "<class 'pandas.core.frame.DataFrame'>\n",
      "RangeIndex: 506 entries, 0 to 505\n",
      "Data columns (total 13 columns):\n",
      " #   Column   Non-Null Count  Dtype  \n",
      "---  ------   --------------  -----  \n",
      " 0   CRIM     506 non-null    float64\n",
      " 1   ZN       506 non-null    float64\n",
      " 2   INDUS    506 non-null    float64\n",
      " 3   CHAS     506 non-null    int64  \n",
      " 4   NOX      506 non-null    float64\n",
      " 5   RM       506 non-null    float64\n",
      " 6   AGE      506 non-null    float64\n",
      " 7   DIS      506 non-null    float64\n",
      " 8   RAD      506 non-null    int64  \n",
      " 9   TAX      506 non-null    int64  \n",
      " 10  PTRATIO  506 non-null    float64\n",
      " 11  LSTAT    506 non-null    float64\n",
      " 12  MEDV     506 non-null    float64\n",
      "dtypes: float64(10), int64(3)\n",
      "memory usage: 51.5 KB\n"
     ]
    }
   ],
   "source": [
    "data.info()"
   ],
   "metadata": {
    "collapsed": false,
    "pycharm": {
     "name": "#%%\n"
    }
   }
  },
  {
   "cell_type": "code",
   "execution_count": 26,
   "outputs": [
    {
     "data": {
      "text/plain": "             CRIM          ZN       INDUS        CHAS         NOX          RM  \\\ncount  506.000000  506.000000  506.000000  506.000000  506.000000  506.000000   \nmean     3.613524   11.363636   11.136779    0.069170    0.554695    6.284634   \nstd      8.601545   23.322453    6.860353    0.253994    0.115878    0.702617   \nmin      0.006320    0.000000    0.460000    0.000000    0.385000    3.561000   \n25%      0.082045    0.000000    5.190000    0.000000    0.449000    5.885500   \n50%      0.256510    0.000000    9.690000    0.000000    0.538000    6.208500   \n75%      3.677083   12.500000   18.100000    0.000000    0.624000    6.623500   \nmax     88.976200  100.000000   27.740000    1.000000    0.871000    8.780000   \n\n              AGE         DIS         RAD         TAX     PTRATIO       LSTAT  \\\ncount  506.000000  506.000000  506.000000  506.000000  506.000000  506.000000   \nmean    68.574901    3.795043    9.549407  408.237154   18.455534   12.653063   \nstd     28.148861    2.105710    8.707259  168.537116    2.164946    7.141062   \nmin      2.900000    1.129600    1.000000  187.000000   12.600000    1.730000   \n25%     45.025000    2.100175    4.000000  279.000000   17.400000    6.950000   \n50%     77.500000    3.207450    5.000000  330.000000   19.050000   11.360000   \n75%     94.075000    5.188425   24.000000  666.000000   20.200000   16.955000   \nmax    100.000000   12.126500   24.000000  711.000000   22.000000   37.970000   \n\n             MEDV  \ncount  506.000000  \nmean    22.532806  \nstd      9.197104  \nmin      5.000000  \n25%     17.025000  \n50%     21.200000  \n75%     25.000000  \nmax     50.000000  ",
      "text/html": "<div>\n<style scoped>\n    .dataframe tbody tr th:only-of-type {\n        vertical-align: middle;\n    }\n\n    .dataframe tbody tr th {\n        vertical-align: top;\n    }\n\n    .dataframe thead th {\n        text-align: right;\n    }\n</style>\n<table border=\"1\" class=\"dataframe\">\n  <thead>\n    <tr style=\"text-align: right;\">\n      <th></th>\n      <th>CRIM</th>\n      <th>ZN</th>\n      <th>INDUS</th>\n      <th>CHAS</th>\n      <th>NOX</th>\n      <th>RM</th>\n      <th>AGE</th>\n      <th>DIS</th>\n      <th>RAD</th>\n      <th>TAX</th>\n      <th>PTRATIO</th>\n      <th>LSTAT</th>\n      <th>MEDV</th>\n    </tr>\n  </thead>\n  <tbody>\n    <tr>\n      <th>count</th>\n      <td>506.000000</td>\n      <td>506.000000</td>\n      <td>506.000000</td>\n      <td>506.000000</td>\n      <td>506.000000</td>\n      <td>506.000000</td>\n      <td>506.000000</td>\n      <td>506.000000</td>\n      <td>506.000000</td>\n      <td>506.000000</td>\n      <td>506.000000</td>\n      <td>506.000000</td>\n      <td>506.000000</td>\n    </tr>\n    <tr>\n      <th>mean</th>\n      <td>3.613524</td>\n      <td>11.363636</td>\n      <td>11.136779</td>\n      <td>0.069170</td>\n      <td>0.554695</td>\n      <td>6.284634</td>\n      <td>68.574901</td>\n      <td>3.795043</td>\n      <td>9.549407</td>\n      <td>408.237154</td>\n      <td>18.455534</td>\n      <td>12.653063</td>\n      <td>22.532806</td>\n    </tr>\n    <tr>\n      <th>std</th>\n      <td>8.601545</td>\n      <td>23.322453</td>\n      <td>6.860353</td>\n      <td>0.253994</td>\n      <td>0.115878</td>\n      <td>0.702617</td>\n      <td>28.148861</td>\n      <td>2.105710</td>\n      <td>8.707259</td>\n      <td>168.537116</td>\n      <td>2.164946</td>\n      <td>7.141062</td>\n      <td>9.197104</td>\n    </tr>\n    <tr>\n      <th>min</th>\n      <td>0.006320</td>\n      <td>0.000000</td>\n      <td>0.460000</td>\n      <td>0.000000</td>\n      <td>0.385000</td>\n      <td>3.561000</td>\n      <td>2.900000</td>\n      <td>1.129600</td>\n      <td>1.000000</td>\n      <td>187.000000</td>\n      <td>12.600000</td>\n      <td>1.730000</td>\n      <td>5.000000</td>\n    </tr>\n    <tr>\n      <th>25%</th>\n      <td>0.082045</td>\n      <td>0.000000</td>\n      <td>5.190000</td>\n      <td>0.000000</td>\n      <td>0.449000</td>\n      <td>5.885500</td>\n      <td>45.025000</td>\n      <td>2.100175</td>\n      <td>4.000000</td>\n      <td>279.000000</td>\n      <td>17.400000</td>\n      <td>6.950000</td>\n      <td>17.025000</td>\n    </tr>\n    <tr>\n      <th>50%</th>\n      <td>0.256510</td>\n      <td>0.000000</td>\n      <td>9.690000</td>\n      <td>0.000000</td>\n      <td>0.538000</td>\n      <td>6.208500</td>\n      <td>77.500000</td>\n      <td>3.207450</td>\n      <td>5.000000</td>\n      <td>330.000000</td>\n      <td>19.050000</td>\n      <td>11.360000</td>\n      <td>21.200000</td>\n    </tr>\n    <tr>\n      <th>75%</th>\n      <td>3.677083</td>\n      <td>12.500000</td>\n      <td>18.100000</td>\n      <td>0.000000</td>\n      <td>0.624000</td>\n      <td>6.623500</td>\n      <td>94.075000</td>\n      <td>5.188425</td>\n      <td>24.000000</td>\n      <td>666.000000</td>\n      <td>20.200000</td>\n      <td>16.955000</td>\n      <td>25.000000</td>\n    </tr>\n    <tr>\n      <th>max</th>\n      <td>88.976200</td>\n      <td>100.000000</td>\n      <td>27.740000</td>\n      <td>1.000000</td>\n      <td>0.871000</td>\n      <td>8.780000</td>\n      <td>100.000000</td>\n      <td>12.126500</td>\n      <td>24.000000</td>\n      <td>711.000000</td>\n      <td>22.000000</td>\n      <td>37.970000</td>\n      <td>50.000000</td>\n    </tr>\n  </tbody>\n</table>\n</div>"
     },
     "execution_count": 26,
     "metadata": {},
     "output_type": "execute_result"
    }
   ],
   "source": [
    "data.describe()"
   ],
   "metadata": {
    "collapsed": false,
    "pycharm": {
     "name": "#%%\n"
    }
   }
  },
  {
   "cell_type": "code",
   "execution_count": 27,
   "outputs": [
    {
     "data": {
      "text/plain": "0"
     },
     "execution_count": 27,
     "metadata": {},
     "output_type": "execute_result"
    }
   ],
   "source": [
    "sum(data.duplicated()) # 检查重复值"
   ],
   "metadata": {
    "collapsed": false,
    "pycharm": {
     "name": "#%%\n"
    }
   }
  },
  {
   "cell_type": "code",
   "execution_count": 28,
   "outputs": [],
   "source": [
    "# 处理异常值\n",
    "col_name = ['CRIM', 'ZN', 'INDUS', 'CHAS', 'NOX', 'RM', 'AGE', 'DIS', 'RAD', 'TAX', 'PTRATIO', 'LSTAT', 'MEDV']\n",
    "for i in range(len(col_name) - 1):\n",
    "    col = data[col_name[i]]\n",
    "    low = col.mean() - 3 * col.std()\n",
    "    up = col.mean() + 3 * col.std()\n",
    "\n",
    "    data.loc[data[col_name[i]] < low, col_name[i]] = low\n",
    "    data.loc[data[col_name[i]] > up, col_name[i]] = up"
   ],
   "metadata": {
    "collapsed": false,
    "pycharm": {
     "name": "#%%\n"
    }
   }
  },
  {
   "cell_type": "code",
   "execution_count": 29,
   "outputs": [
    {
     "data": {
      "text/plain": "             CRIM          ZN       INDUS        CHAS         NOX          RM  \\\ncount  506.000000  506.000000  506.000000  506.000000  506.000000  506.000000   \nmean     3.199471   11.113901   11.136779    0.057491    0.554695    6.284575   \nstd      6.045250   22.491900    6.860353    0.211108    0.115878    0.689163   \nmin      0.006320    0.000000    0.460000    0.000000    0.385000    4.176783   \n25%      0.082045    0.000000    5.190000    0.000000    0.449000    5.885500   \n50%      0.256510    0.000000    9.690000    0.000000    0.538000    6.208500   \n75%      3.677083   12.500000   18.100000    0.000000    0.624000    6.623500   \nmax     29.418159   81.330995   27.740000    0.831152    0.871000    8.392486   \n\n              AGE         DIS         RAD         TAX     PTRATIO       LSTAT  \\\ncount  506.000000  506.000000  506.000000  506.000000  506.000000  506.000000   \nmean    68.574901    3.786826    9.549407  408.237154   18.455534   12.637018   \nstd     28.148861    2.078363    8.707259  168.537116    2.164946    7.089260   \nmin      2.900000    1.129600    1.000000  187.000000   12.600000    1.730000   \n25%     45.025000    2.100175    4.000000  279.000000   17.400000    6.950000   \n50%     77.500000    3.207450    5.000000  330.000000   19.050000   11.360000   \n75%     94.075000    5.188425   24.000000  666.000000   20.200000   16.955000   \nmax    100.000000   10.112173   24.000000  711.000000   22.000000   34.076248   \n\n             MEDV  \ncount  506.000000  \nmean    22.532806  \nstd      9.197104  \nmin      5.000000  \n25%     17.025000  \n50%     21.200000  \n75%     25.000000  \nmax     50.000000  ",
      "text/html": "<div>\n<style scoped>\n    .dataframe tbody tr th:only-of-type {\n        vertical-align: middle;\n    }\n\n    .dataframe tbody tr th {\n        vertical-align: top;\n    }\n\n    .dataframe thead th {\n        text-align: right;\n    }\n</style>\n<table border=\"1\" class=\"dataframe\">\n  <thead>\n    <tr style=\"text-align: right;\">\n      <th></th>\n      <th>CRIM</th>\n      <th>ZN</th>\n      <th>INDUS</th>\n      <th>CHAS</th>\n      <th>NOX</th>\n      <th>RM</th>\n      <th>AGE</th>\n      <th>DIS</th>\n      <th>RAD</th>\n      <th>TAX</th>\n      <th>PTRATIO</th>\n      <th>LSTAT</th>\n      <th>MEDV</th>\n    </tr>\n  </thead>\n  <tbody>\n    <tr>\n      <th>count</th>\n      <td>506.000000</td>\n      <td>506.000000</td>\n      <td>506.000000</td>\n      <td>506.000000</td>\n      <td>506.000000</td>\n      <td>506.000000</td>\n      <td>506.000000</td>\n      <td>506.000000</td>\n      <td>506.000000</td>\n      <td>506.000000</td>\n      <td>506.000000</td>\n      <td>506.000000</td>\n      <td>506.000000</td>\n    </tr>\n    <tr>\n      <th>mean</th>\n      <td>3.199471</td>\n      <td>11.113901</td>\n      <td>11.136779</td>\n      <td>0.057491</td>\n      <td>0.554695</td>\n      <td>6.284575</td>\n      <td>68.574901</td>\n      <td>3.786826</td>\n      <td>9.549407</td>\n      <td>408.237154</td>\n      <td>18.455534</td>\n      <td>12.637018</td>\n      <td>22.532806</td>\n    </tr>\n    <tr>\n      <th>std</th>\n      <td>6.045250</td>\n      <td>22.491900</td>\n      <td>6.860353</td>\n      <td>0.211108</td>\n      <td>0.115878</td>\n      <td>0.689163</td>\n      <td>28.148861</td>\n      <td>2.078363</td>\n      <td>8.707259</td>\n      <td>168.537116</td>\n      <td>2.164946</td>\n      <td>7.089260</td>\n      <td>9.197104</td>\n    </tr>\n    <tr>\n      <th>min</th>\n      <td>0.006320</td>\n      <td>0.000000</td>\n      <td>0.460000</td>\n      <td>0.000000</td>\n      <td>0.385000</td>\n      <td>4.176783</td>\n      <td>2.900000</td>\n      <td>1.129600</td>\n      <td>1.000000</td>\n      <td>187.000000</td>\n      <td>12.600000</td>\n      <td>1.730000</td>\n      <td>5.000000</td>\n    </tr>\n    <tr>\n      <th>25%</th>\n      <td>0.082045</td>\n      <td>0.000000</td>\n      <td>5.190000</td>\n      <td>0.000000</td>\n      <td>0.449000</td>\n      <td>5.885500</td>\n      <td>45.025000</td>\n      <td>2.100175</td>\n      <td>4.000000</td>\n      <td>279.000000</td>\n      <td>17.400000</td>\n      <td>6.950000</td>\n      <td>17.025000</td>\n    </tr>\n    <tr>\n      <th>50%</th>\n      <td>0.256510</td>\n      <td>0.000000</td>\n      <td>9.690000</td>\n      <td>0.000000</td>\n      <td>0.538000</td>\n      <td>6.208500</td>\n      <td>77.500000</td>\n      <td>3.207450</td>\n      <td>5.000000</td>\n      <td>330.000000</td>\n      <td>19.050000</td>\n      <td>11.360000</td>\n      <td>21.200000</td>\n    </tr>\n    <tr>\n      <th>75%</th>\n      <td>3.677083</td>\n      <td>12.500000</td>\n      <td>18.100000</td>\n      <td>0.000000</td>\n      <td>0.624000</td>\n      <td>6.623500</td>\n      <td>94.075000</td>\n      <td>5.188425</td>\n      <td>24.000000</td>\n      <td>666.000000</td>\n      <td>20.200000</td>\n      <td>16.955000</td>\n      <td>25.000000</td>\n    </tr>\n    <tr>\n      <th>max</th>\n      <td>29.418159</td>\n      <td>81.330995</td>\n      <td>27.740000</td>\n      <td>0.831152</td>\n      <td>0.871000</td>\n      <td>8.392486</td>\n      <td>100.000000</td>\n      <td>10.112173</td>\n      <td>24.000000</td>\n      <td>711.000000</td>\n      <td>22.000000</td>\n      <td>34.076248</td>\n      <td>50.000000</td>\n    </tr>\n  </tbody>\n</table>\n</div>"
     },
     "execution_count": 29,
     "metadata": {},
     "output_type": "execute_result"
    }
   ],
   "source": [
    "data.describe()"
   ],
   "metadata": {
    "collapsed": false,
    "pycharm": {
     "name": "#%%\n"
    }
   }
  },
  {
   "cell_type": "code",
   "execution_count": 30,
   "outputs": [
    {
     "data": {
      "text/plain": "((506, 12), (506, 1))"
     },
     "execution_count": 30,
     "metadata": {},
     "output_type": "execute_result"
    }
   ],
   "source": [
    "X = data.iloc[:, :len(col_name)-1]\n",
    "y = data.iloc[:, len(col_name)-1:]\n",
    "X.shape, y.shape"
   ],
   "metadata": {
    "collapsed": false,
    "pycharm": {
     "name": "#%%\n"
    }
   }
  },
  {
   "cell_type": "code",
   "execution_count": 31,
   "outputs": [],
   "source": [
    "from sklearn.preprocessing import StandardScaler\n",
    "\n",
    "scaler = StandardScaler()\n",
    "X = scaler.fit_transform(X)"
   ],
   "metadata": {
    "collapsed": false,
    "pycharm": {
     "name": "#%%\n"
    }
   }
  },
  {
   "cell_type": "code",
   "execution_count": 32,
   "outputs": [
    {
     "data": {
      "text/plain": "                 0             1             2             3             4   \\\ncount  5.060000e+02  5.060000e+02  5.060000e+02  5.060000e+02  5.060000e+02   \nmean  -3.025687e-16  1.101447e-16  2.804081e-16 -2.990581e-16 -8.071058e-16   \nstd    1.000990e+00  1.000990e+00  1.000990e+00  1.000990e+00  1.000990e+00   \nmin   -5.287310e-01 -4.946180e-01 -1.557842e+00 -2.725986e-01 -1.465882e+00   \n25%   -5.161922e-01 -4.946180e-01 -8.676906e-01 -2.725986e-01 -9.130288e-01   \n50%   -4.873038e-01 -4.946180e-01 -2.110985e-01 -2.725986e-01 -1.442174e-01   \n75%    7.908428e-02  6.168757e-02  1.015999e+00 -2.725986e-01  5.986790e-01   \nmax    4.341365e+00  3.124973e+00  2.422565e+00  3.668398e+00  2.732346e+00   \n\n                 5             6             7             8             9   \\\ncount  5.060000e+02  5.060000e+02  5.060000e+02  5.060000e+02  5.060000e+02   \nmean   3.938439e-17 -2.650493e-16 -3.444763e-17  1.514379e-15 -9.934960e-16   \nstd    1.000990e+00  1.000990e+00  1.000990e+00  1.000990e+00  1.000990e+00   \nmin   -3.061508e+00 -2.335437e+00 -1.279784e+00 -9.828429e-01 -1.313990e+00   \n25%   -5.796453e-01 -8.374480e-01 -8.123319e-01 -6.379618e-01 -7.675760e-01   \n50%   -1.104971e-01  3.173816e-01 -2.790415e-01 -5.230014e-01 -4.646726e-01   \n75%    4.922785e-01  9.067981e-01  6.750439e-01  1.661245e+00  1.530926e+00   \nmax    3.061680e+00  1.117494e+00  3.046440e+00  1.661245e+00  1.798194e+00   \n\n                 10            11  \ncount  5.060000e+02  5.060000e+02  \nmean   4.493551e-16  1.399846e-16  \nstd    1.000990e+00  1.000990e+00  \nmin   -2.707379e+00 -1.540050e+00  \n25%   -4.880391e-01 -8.029958e-01  \n50%    2.748590e-01 -1.803125e-01  \n75%    8.065758e-01  6.096906e-01  \nmax    1.638828e+00  3.027177e+00  ",
      "text/html": "<div>\n<style scoped>\n    .dataframe tbody tr th:only-of-type {\n        vertical-align: middle;\n    }\n\n    .dataframe tbody tr th {\n        vertical-align: top;\n    }\n\n    .dataframe thead th {\n        text-align: right;\n    }\n</style>\n<table border=\"1\" class=\"dataframe\">\n  <thead>\n    <tr style=\"text-align: right;\">\n      <th></th>\n      <th>0</th>\n      <th>1</th>\n      <th>2</th>\n      <th>3</th>\n      <th>4</th>\n      <th>5</th>\n      <th>6</th>\n      <th>7</th>\n      <th>8</th>\n      <th>9</th>\n      <th>10</th>\n      <th>11</th>\n    </tr>\n  </thead>\n  <tbody>\n    <tr>\n      <th>count</th>\n      <td>5.060000e+02</td>\n      <td>5.060000e+02</td>\n      <td>5.060000e+02</td>\n      <td>5.060000e+02</td>\n      <td>5.060000e+02</td>\n      <td>5.060000e+02</td>\n      <td>5.060000e+02</td>\n      <td>5.060000e+02</td>\n      <td>5.060000e+02</td>\n      <td>5.060000e+02</td>\n      <td>5.060000e+02</td>\n      <td>5.060000e+02</td>\n    </tr>\n    <tr>\n      <th>mean</th>\n      <td>-3.025687e-16</td>\n      <td>1.101447e-16</td>\n      <td>2.804081e-16</td>\n      <td>-2.990581e-16</td>\n      <td>-8.071058e-16</td>\n      <td>3.938439e-17</td>\n      <td>-2.650493e-16</td>\n      <td>-3.444763e-17</td>\n      <td>1.514379e-15</td>\n      <td>-9.934960e-16</td>\n      <td>4.493551e-16</td>\n      <td>1.399846e-16</td>\n    </tr>\n    <tr>\n      <th>std</th>\n      <td>1.000990e+00</td>\n      <td>1.000990e+00</td>\n      <td>1.000990e+00</td>\n      <td>1.000990e+00</td>\n      <td>1.000990e+00</td>\n      <td>1.000990e+00</td>\n      <td>1.000990e+00</td>\n      <td>1.000990e+00</td>\n      <td>1.000990e+00</td>\n      <td>1.000990e+00</td>\n      <td>1.000990e+00</td>\n      <td>1.000990e+00</td>\n    </tr>\n    <tr>\n      <th>min</th>\n      <td>-5.287310e-01</td>\n      <td>-4.946180e-01</td>\n      <td>-1.557842e+00</td>\n      <td>-2.725986e-01</td>\n      <td>-1.465882e+00</td>\n      <td>-3.061508e+00</td>\n      <td>-2.335437e+00</td>\n      <td>-1.279784e+00</td>\n      <td>-9.828429e-01</td>\n      <td>-1.313990e+00</td>\n      <td>-2.707379e+00</td>\n      <td>-1.540050e+00</td>\n    </tr>\n    <tr>\n      <th>25%</th>\n      <td>-5.161922e-01</td>\n      <td>-4.946180e-01</td>\n      <td>-8.676906e-01</td>\n      <td>-2.725986e-01</td>\n      <td>-9.130288e-01</td>\n      <td>-5.796453e-01</td>\n      <td>-8.374480e-01</td>\n      <td>-8.123319e-01</td>\n      <td>-6.379618e-01</td>\n      <td>-7.675760e-01</td>\n      <td>-4.880391e-01</td>\n      <td>-8.029958e-01</td>\n    </tr>\n    <tr>\n      <th>50%</th>\n      <td>-4.873038e-01</td>\n      <td>-4.946180e-01</td>\n      <td>-2.110985e-01</td>\n      <td>-2.725986e-01</td>\n      <td>-1.442174e-01</td>\n      <td>-1.104971e-01</td>\n      <td>3.173816e-01</td>\n      <td>-2.790415e-01</td>\n      <td>-5.230014e-01</td>\n      <td>-4.646726e-01</td>\n      <td>2.748590e-01</td>\n      <td>-1.803125e-01</td>\n    </tr>\n    <tr>\n      <th>75%</th>\n      <td>7.908428e-02</td>\n      <td>6.168757e-02</td>\n      <td>1.015999e+00</td>\n      <td>-2.725986e-01</td>\n      <td>5.986790e-01</td>\n      <td>4.922785e-01</td>\n      <td>9.067981e-01</td>\n      <td>6.750439e-01</td>\n      <td>1.661245e+00</td>\n      <td>1.530926e+00</td>\n      <td>8.065758e-01</td>\n      <td>6.096906e-01</td>\n    </tr>\n    <tr>\n      <th>max</th>\n      <td>4.341365e+00</td>\n      <td>3.124973e+00</td>\n      <td>2.422565e+00</td>\n      <td>3.668398e+00</td>\n      <td>2.732346e+00</td>\n      <td>3.061680e+00</td>\n      <td>1.117494e+00</td>\n      <td>3.046440e+00</td>\n      <td>1.661245e+00</td>\n      <td>1.798194e+00</td>\n      <td>1.638828e+00</td>\n      <td>3.027177e+00</td>\n    </tr>\n  </tbody>\n</table>\n</div>"
     },
     "execution_count": 32,
     "metadata": {},
     "output_type": "execute_result"
    }
   ],
   "source": [
    "pd.DataFrame(X).describe()"
   ],
   "metadata": {
    "collapsed": false,
    "pycharm": {
     "name": "#%%\n"
    }
   }
  },
  {
   "cell_type": "code",
   "execution_count": 33,
   "outputs": [],
   "source": [
    "pd.DataFrame(X).to_csv('data/boston_preprocessing_X.csv', index=False, header=col_name[:len(col_name)-1])\n",
    "pd.DataFrame(y).to_csv('data/boston_preprocessing_y.csv', index=False, header=col_name[len(col_name)-1:])"
   ],
   "metadata": {
    "collapsed": false,
    "pycharm": {
     "name": "#%%\n"
    }
   }
  },
  {
   "cell_type": "code",
   "execution_count": null,
   "outputs": [],
   "source": [],
   "metadata": {
    "collapsed": false,
    "pycharm": {
     "name": "#%%\n"
    }
   }
  }
 ],
 "metadata": {
  "kernelspec": {
   "display_name": "Python 3",
   "language": "python",
   "name": "python3"
  },
  "language_info": {
   "codemirror_mode": {
    "name": "ipython",
    "version": 2
   },
   "file_extension": ".py",
   "mimetype": "text/x-python",
   "name": "python",
   "nbconvert_exporter": "python",
   "pygments_lexer": "ipython2",
   "version": "2.7.6"
  }
 },
 "nbformat": 4,
 "nbformat_minor": 0
}